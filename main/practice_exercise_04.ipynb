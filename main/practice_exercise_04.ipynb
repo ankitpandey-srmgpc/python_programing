{
  "cells": [
    {
      "cell_type": "markdown",
      "metadata": {
        "id": "5TFgLGvN2Mtc"
      },
      "source": [
        "# Practice Exercise - 04"
      ]
    },
    {
      "cell_type": "markdown",
      "metadata": {
        "id": "PrYZlUXm2Mte"
      },
      "source": [
        "### Question 1:\n",
        "\n",
        "We have two sets given below. Print the set of elements that are present in either set1 or set2 but not both.\n",
        "\n",
        "set1 = {1, 2, 3, 4, 5}\n",
        "<br>set2 = {4, 5, 6, 7}\n",
        "\n",
        "#### Expected Output:\n",
        "\n",
        "{1, 2, 3, 6, 7}"
      ]
    },
    {
      "cell_type": "code",
      "execution_count": 9,
      "metadata": {
        "colab": {
          "base_uri": "https://localhost:8080/"
        },
        "id": "vHaJyUgB2Mte",
        "outputId": "e42895bb-0a2c-4644-b934-8d909cbaee35"
      },
      "outputs": [
        {
          "output_type": "stream",
          "name": "stdout",
          "text": [
            "{1, 2, 3, 6, 7}\n"
          ]
        }
      ],
      "source": [
        "set1 ={1,2,3,4,5}\n",
        "set2 ={4,5,6,7}\n",
        "\n",
        "print(set1 ^ set2)"
      ]
    },
    {
      "cell_type": "markdown",
      "metadata": {
        "id": "krs_oWCv2Mte"
      },
      "source": [
        "### Question 2:\n",
        "\n",
        "Print all the keys of the dictionary given below.\n",
        "\n",
        "myDict = {1:'One', 2:'Two', 3:'Three'}\n",
        "\n",
        "#### Expected Output:\n",
        "\n",
        "dict_keys([1, 2, 3])"
      ]
    },
    {
      "cell_type": "code",
      "execution_count": 11,
      "metadata": {
        "colab": {
          "base_uri": "https://localhost:8080/"
        },
        "id": "qgd1sGyQ2Mtf",
        "outputId": "a2b9edbf-58e1-4313-e854-ff7eacdcaba0"
      },
      "outputs": [
        {
          "output_type": "execute_result",
          "data": {
            "text/plain": [
              "dict_keys([1, 2, 3])"
            ]
          },
          "metadata": {},
          "execution_count": 11
        }
      ],
      "source": [
        "myDict = {1:'one',2:'two',3:'three'}\n",
        "myDict.keys()"
      ]
    },
    {
      "cell_type": "markdown",
      "metadata": {
        "id": "RxAJK3C92Mtf"
      },
      "source": [
        "### Question 3:\n",
        "\n",
        "We have two sets given below. Print the elements common to both the sets.\n",
        "\n",
        "set1 = {1, 2, 3, 4, 5}\n",
        "<br>set2 = {4, 5, 6, 7}\n",
        "\n",
        "#### Expected Output:\n",
        "\n",
        "{4, 5}"
      ]
    },
    {
      "cell_type": "code",
      "execution_count": 12,
      "metadata": {
        "colab": {
          "base_uri": "https://localhost:8080/"
        },
        "id": "JOywZF8p2Mtf",
        "outputId": "07d4facc-02ce-4688-d0dc-579db759afd1"
      },
      "outputs": [
        {
          "output_type": "stream",
          "name": "stdout",
          "text": [
            "{4, 5}\n"
          ]
        }
      ],
      "source": [
        "set1 = {1,2,3,4,5}\n",
        "set2 = {4,5,6,7}\n",
        "print(set1 & set2)"
      ]
    },
    {
      "cell_type": "markdown",
      "metadata": {
        "id": "8ou1zss72Mtf"
      },
      "source": [
        "### Question 4:\n",
        "\n",
        "We have a dictionary given below. Delete the item with key '3,' and add an item with key '7' and value 'Black.'\n",
        "\n",
        "color = {1:'Red', 2:'Orange', 3:'White', 4:'Brown', 5:'Yellow'}\n",
        "\n",
        "#### Expected Output:\n",
        "\n",
        "{1: 'Red', 2: 'Orange', 4: 'Brown', 5: 'Yellow', 7: 'Black'}"
      ]
    },
    {
      "cell_type": "code",
      "execution_count": 16,
      "metadata": {
        "colab": {
          "base_uri": "https://localhost:8080/"
        },
        "id": "YQvIZ3op2Mtf",
        "outputId": "d5e603d3-e7b2-493f-c8d3-0236e73dd983"
      },
      "outputs": [
        {
          "output_type": "stream",
          "name": "stdout",
          "text": [
            "{1: 'Red', 2: 'Orange', 4: 'Brown', 5: 'Yellow', 7: 'Black'}\n"
          ]
        }
      ],
      "source": [
        "color = {1:'Red', 2:'Orange', 3:'White', 4:'Brown', 5:'Yellow'}\n",
        "color.pop(3)\n",
        "color[7]='Black'\n",
        "print(color)\n"
      ]
    },
    {
      "cell_type": "markdown",
      "metadata": {
        "id": "vRjuPnAg2Mtf"
      },
      "source": [
        "### Question 5:\n",
        "\n",
        "We have two sets given below. Check if set1 is a subset of set2.\n",
        "\n",
        "set1 = {2, 4, 6}\n",
        "<br>set2 = {2, 4, 6, 8, 10}\n",
        "\n",
        "#### Expected Output:\n",
        "\n",
        "True"
      ]
    },
    {
      "cell_type": "code",
      "execution_count": 19,
      "metadata": {
        "colab": {
          "base_uri": "https://localhost:8080/"
        },
        "id": "0TDCRHaP2Mtg",
        "outputId": "85e5f20c-6818-4b95-cea6-e00e61d5ef54"
      },
      "outputs": [
        {
          "output_type": "stream",
          "name": "stdout",
          "text": [
            "True\n"
          ]
        }
      ],
      "source": [
        "set1 = {2, 4, 6}\n",
        "set2 = {2, 4, 6, 8, 10}\n",
        "print(set1 <= set2)"
      ]
    },
    {
      "cell_type": "markdown",
      "metadata": {
        "id": "nXR9SN3P2Mtg"
      },
      "source": [
        "### Question 6:\n",
        "\n",
        "Merge the two dictionaries given below.\n",
        "\n",
        "myDict1 = {1:'One', 2:'Two', 3:'Three'}\n",
        "<br>myDict2 = {4:'Four', 5:'Five', 6:'Six'}\n",
        "\n",
        "#### Expected Output:\n",
        "\n",
        "{1: 'One', 2: 'Two', 3: 'Three', 4: 'Four', 5: 'Five', 6: 'Six'}"
      ]
    },
    {
      "cell_type": "code",
      "execution_count": 3,
      "metadata": {
        "colab": {
          "base_uri": "https://localhost:8080/"
        },
        "id": "CnS98byy2Mtg",
        "outputId": "bc8bc8e1-545d-40ed-a3cb-cbc40f9b684e"
      },
      "outputs": [
        {
          "output_type": "stream",
          "name": "stdout",
          "text": [
            "{1: 'One', 2: 'Two', 3: 'Three', 4: 'Four', 5: 'Five', 6: 'Six'}\n"
          ]
        }
      ],
      "source": [
        "myDict1 = {1:'One', 2:'Two', 3:'Three'}\n",
        "myDict2 = {4:'Four', 5:'Five', 6:'Six'}\n",
        "\n",
        "myDict1.update(myDict2)\n",
        "print(myDict1)"
      ]
    },
    {
      "cell_type": "markdown",
      "metadata": {
        "id": "Z8CgKmEP2Mtg"
      },
      "source": [
        "### Question 7:\n",
        "\n",
        "We have two sets given below. Print the elements that are present in set1 but not in set2.\n",
        "\n",
        "set1 = {2, 3, 4, 5}\n",
        "<br>set2 = {2, 4, 6, 8}\n",
        "\n",
        "#### Expected Solution:\n",
        "\n",
        "{3, 5}"
      ]
    },
    {
      "cell_type": "code",
      "execution_count": 6,
      "metadata": {
        "colab": {
          "base_uri": "https://localhost:8080/"
        },
        "id": "un-jsBJw2Mtg",
        "outputId": "debf387b-4d32-43bd-fb56-d906434b3d19"
      },
      "outputs": [
        {
          "output_type": "stream",
          "name": "stdout",
          "text": [
            "{3, 5}\n"
          ]
        }
      ],
      "source": [
        "set1 = {2, 3, 4, 5}\n",
        "set2 = {2, 4, 6, 8}\n",
        "print(set1 - set2)"
      ]
    },
    {
      "cell_type": "markdown",
      "metadata": {
        "id": "ADwhORr52Mtg"
      },
      "source": [
        "### Question 8:\n",
        "\n",
        "We have a dictionary given below. Copy this dictionary into another dictionary 'replica,' and change the value of the key 103 to 'Sally' in the replica dictionary only. Finally, print both the dictionaries.\n",
        "\n",
        "student_details = {101:'Judy', 102:'Victor', 103:'Sam'}\n",
        "\n",
        "#### Expected Output:\n",
        "\n",
        "{101: 'Judy', 102: 'Victor', 103: 'Sam'}\n",
        "<br>{101: 'Judy', 102: 'Victor', 103: 'Sally'}"
      ]
    },
    {
      "cell_type": "code",
      "execution_count": 7,
      "metadata": {
        "colab": {
          "base_uri": "https://localhost:8080/"
        },
        "id": "dmyueQKy2Mtg",
        "outputId": "6f63bfa6-8760-40f5-fd01-a90e9c1d51ea"
      },
      "outputs": [
        {
          "output_type": "stream",
          "name": "stdout",
          "text": [
            "{101: 'Judy', 102: 'Victor', 103: 'Sam'}\n",
            "{101: 'Judy', 102: 'Victor', 103: 'Sally'}\n"
          ]
        }
      ],
      "source": [
        "import copy\n",
        "student_details = {101:'Judy', 102:'Victor', 103:'Sam'}\n",
        "student_details2 = copy.deepcopy(student_details)\n",
        "student_details2[103] = 'Sally'\n",
        "print(student_details)\n",
        "print(student_details2)"
      ]
    },
    {
      "cell_type": "markdown",
      "metadata": {
        "id": "srTJkTzY2Mtg"
      },
      "source": [
        "### Question 9:\n",
        "\n",
        "Remove all the duplicate items from the tuple given below.\n",
        "\n",
        "myTuple = ('Red', 'Blue', 'Green', 'Red', 'Orange', 'Green')\n",
        "\n",
        "#### Expected Output:\n",
        "\n",
        "{'Blue', 'Green', 'Orange', 'Red'}"
      ]
    },
    {
      "cell_type": "code",
      "execution_count": 8,
      "metadata": {
        "colab": {
          "base_uri": "https://localhost:8080/"
        },
        "id": "9JuLAXg92Mtg",
        "outputId": "57ea310d-e776-4677-ff4d-65a962232bfa"
      },
      "outputs": [
        {
          "output_type": "stream",
          "name": "stdout",
          "text": [
            "{'Green', 'Red', 'Blue', 'Orange'}\n"
          ]
        }
      ],
      "source": [
        "myTuple = ('Red', 'Blue', 'Green', 'Red', 'Orange', 'Green')\n",
        "print(set(myTuple))"
      ]
    },
    {
      "cell_type": "markdown",
      "metadata": {
        "id": "pB8jiIaF2Mtg"
      },
      "source": [
        "### Question 10:\n",
        "\n",
        "Print the number and the cube of that number in a dictionary from 0 to 5.\n",
        "\n",
        "#### Expected Output:\n",
        "\n",
        "{0: 0, 1: 1, 2: 8, 3: 27, 4: 64, 5: 125}"
      ]
    },
    {
      "cell_type": "code",
      "execution_count": 12,
      "metadata": {
        "colab": {
          "base_uri": "https://localhost:8080/"
        },
        "id": "hr-Ecs0c2Mtg",
        "outputId": "68145a01-60f7-4f43-de99-b54a24d71601"
      },
      "outputs": [
        {
          "output_type": "stream",
          "name": "stdout",
          "text": [
            "{0: 0, 1: 1, 2: 8, 3: 27, 4: 64, 5: 125}\n"
          ]
        }
      ],
      "source": [
        "myDic = {i:i**3 for i in range(0,6)}\n",
        "print(myDic)"
      ]
    }
  ],
  "metadata": {
    "kernelspec": {
      "display_name": "Python 3",
      "language": "python",
      "name": "python3"
    },
    "language_info": {
      "codemirror_mode": {
        "name": "ipython",
        "version": 3
      },
      "file_extension": ".py",
      "mimetype": "text/x-python",
      "name": "python",
      "nbconvert_exporter": "python",
      "pygments_lexer": "ipython3",
      "version": "3.8.3"
    },
    "colab": {
      "provenance": []
    }
  },
  "nbformat": 4,
  "nbformat_minor": 0
}