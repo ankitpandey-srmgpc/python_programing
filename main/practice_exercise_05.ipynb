{
  "cells": [
    {
      "cell_type": "markdown",
      "metadata": {
        "id": "9qlpOqKvQVto"
      },
      "source": [
        "# Practice Exercise - 05"
      ]
    },
    {
      "cell_type": "markdown",
      "metadata": {
        "id": "3gP-zHoWQVtq"
      },
      "source": [
        "### Question 1:\n",
        "\n",
        "Write a Python program to display the current date and time.\n",
        "\n",
        "#### Expected Output:\n",
        "\n",
        "Current date and time:  2020-10-17 16:02:50.583157"
      ]
    },
    {
      "cell_type": "code",
      "execution_count": 7,
      "metadata": {
        "colab": {
          "base_uri": "https://localhost:8080/"
        },
        "id": "j-_5YiqaQVtq",
        "outputId": "47d98db9-ed86-4a90-f2c6-76a41e6bf4a0"
      },
      "outputs": [
        {
          "output_type": "stream",
          "name": "stdout",
          "text": [
            "2025-08-24 13:30:54.757853\n"
          ]
        }
      ],
      "source": [
        "from datetime import datetime\n",
        "print(datetime.now())"
      ]
    },
    {
      "cell_type": "markdown",
      "metadata": {
        "id": "jNeKF1aOQVtr"
      },
      "source": [
        "### Question 2:\n",
        "\n",
        "Print the month and minutes from the datetime object given below.\n",
        "\n",
        "dob_time = datetime(1995, 6, 14, 10, 37, 50, 0)\n",
        "\n",
        "#### Expected Output:\n",
        "\n",
        "Month: 6\n",
        "<br>Minutes: 37"
      ]
    },
    {
      "cell_type": "code",
      "execution_count": 8,
      "metadata": {
        "colab": {
          "base_uri": "https://localhost:8080/"
        },
        "id": "i1jOzZ0SQVtr",
        "outputId": "512e6d2a-f0ba-4149-9718-ca1c1de07dd7"
      },
      "outputs": [
        {
          "output_type": "stream",
          "name": "stdout",
          "text": [
            "6\n",
            "37\n"
          ]
        }
      ],
      "source": [
        "dob_time = datetime(1995, 6, 14, 10, 37, 50, 0)\n",
        "print(dob_time.month)\n",
        "print(dob_time.minute)"
      ]
    },
    {
      "cell_type": "markdown",
      "metadata": {
        "id": "k6odZjKQQVtr"
      },
      "source": [
        "### Question 3:\n",
        "\n",
        "Print the date in the format given below.\n",
        "\n",
        "Day_number  Month_name(abbr.)  Year - Day_name(abbr.)\n",
        "\n",
        "given_date = datetime(2011, 10, 12)\n",
        "\n",
        "#### Expected Output:\n",
        "\n",
        "12 Oct 2011 - Wed"
      ]
    },
    {
      "cell_type": "code",
      "execution_count": 15,
      "metadata": {
        "colab": {
          "base_uri": "https://localhost:8080/"
        },
        "id": "ToBZ8Oc6QVtr",
        "outputId": "8b81615d-ce9f-4018-8717-329b67380d9c"
      },
      "outputs": [
        {
          "output_type": "stream",
          "name": "stdout",
          "text": [
            "12 Oct 2011 - Wednesday\n"
          ]
        }
      ],
      "source": [
        "from datetime import date\n",
        "given_date = datetime(2011, 10, 12)\n",
        "print(given_date.strftime(\"%d %b %Y - %A\"))"
      ]
    },
    {
      "cell_type": "markdown",
      "metadata": {
        "id": "7lyJc2T7QVtr"
      },
      "source": [
        "### Question 4:\n",
        "\n",
        "Write a Python program to find the day of the week of a given date?\n",
        "\n",
        "given_date = datetime(2008, 5, 15)\n",
        "\n",
        "#### Expected Output:\n",
        "\n",
        "Thursday"
      ]
    },
    {
      "cell_type": "code",
      "execution_count": 17,
      "metadata": {
        "colab": {
          "base_uri": "https://localhost:8080/"
        },
        "id": "OaLuVtXaQVts",
        "outputId": "acdd3680-c644-4ed8-cdcb-a917b9553cd1"
      },
      "outputs": [
        {
          "output_type": "stream",
          "name": "stdout",
          "text": [
            "Thursday\n"
          ]
        }
      ],
      "source": [
        "given_date = datetime(2008, 5, 15)\n",
        "print(given_date.strftime(\"%A\"))"
      ]
    },
    {
      "cell_type": "markdown",
      "metadata": {
        "id": "nNbzbp0yQVts"
      },
      "source": [
        "### Question 5:\n",
        "\n",
        "Write a Python program to add 2 days and 10 hours to a given date.\n",
        "\n",
        "given_date = datetime(2016, 2, 27, 11, 30, 0)\n",
        "\n",
        "#### Expected Output:\n",
        "\n",
        "2016-02-29 21:30:00"
      ]
    },
    {
      "cell_type": "code",
      "execution_count": 20,
      "metadata": {
        "colab": {
          "base_uri": "https://localhost:8080/"
        },
        "id": "9a0JFRmzQVts",
        "outputId": "005ece13-911c-4c1d-84d9-0edad2799ad6"
      },
      "outputs": [
        {
          "output_type": "stream",
          "name": "stdout",
          "text": [
            "2016-02-29 21:30:00\n"
          ]
        }
      ],
      "source": [
        "from datetime import timedelta\n",
        "given_date = datetime(2016, 2, 27, 11, 30, 0)\n",
        "dated = timedelta(days=2,hours=10)\n",
        "newDate = given_date+dated\n",
        "print(newDate)"
      ]
    },
    {
      "cell_type": "markdown",
      "metadata": {
        "id": "m5NHZ0hyQVts"
      },
      "source": [
        "### Question 6:\n",
        "\n",
        "Write a Python program to calculate the number of days between two given dates.\n",
        "\n",
        "date_1 = datetime(2020, 7, 21).date()\n",
        "<br>date_2 = datetime(2020, 3, 10).date()\n",
        "\n",
        "#### Expected Output:\n",
        "\n",
        "133 days, 0:00:00"
      ]
    },
    {
      "cell_type": "code",
      "execution_count": 21,
      "metadata": {
        "colab": {
          "base_uri": "https://localhost:8080/"
        },
        "id": "paRXdeX_QVts",
        "outputId": "44a8d9d2-e54f-4b45-b721-1e2368710d32"
      },
      "outputs": [
        {
          "output_type": "stream",
          "name": "stdout",
          "text": [
            "133 days, 0:00:00\n"
          ]
        }
      ],
      "source": [
        "date_1 = datetime(2020, 7, 21).date()\n",
        "date_2 = datetime(2020, 3, 10).date()\n",
        "print(date_1-date_2)"
      ]
    },
    {
      "cell_type": "markdown",
      "metadata": {
        "id": "J2GoGYfiQVts"
      },
      "source": [
        "### Question 7:\n",
        "\n",
        "Write a Python program to convert a string to datetime.\n",
        "\n",
        "myString = Oct 12 2002 12:45 PM\n",
        "\n",
        "#### Expected Output:\n",
        "\n",
        "2002-10-12 12:45:00"
      ]
    },
    {
      "cell_type": "code",
      "execution_count": 25,
      "metadata": {
        "colab": {
          "base_uri": "https://localhost:8080/"
        },
        "id": "e1Uz9rICQVts",
        "outputId": "bdfa4680-9acd-40c9-cd46-7cf50feb7596"
      },
      "outputs": [
        {
          "output_type": "stream",
          "name": "stdout",
          "text": [
            "2002-10-12 12:45:00\n"
          ]
        }
      ],
      "source": [
        "myString = \"Oct 12 2002 12:45 PM\"\n",
        "dates = datetime.strptime(myString,\"%b %d %Y %I:%M %p\")\n",
        "print(dates)"
      ]
    },
    {
      "cell_type": "markdown",
      "metadata": {
        "id": "YgaY7OjAQVts"
      },
      "source": [
        "### Question 8:\n",
        "\n",
        "Print the date, day name, and time in the format given below.\n",
        "\n",
        "Day_number-Month_number-Year - Day_name - Hours:Minutes:Seconds\n",
        "\n",
        "dob_time = datetime(1995, 6, 14, 10, 37, 50, 0)\n",
        "\n",
        "#### Expected Output:\n",
        "\n",
        "14-06-1995 - Wed - 10:37:50"
      ]
    },
    {
      "cell_type": "code",
      "execution_count": 29,
      "metadata": {
        "colab": {
          "base_uri": "https://localhost:8080/"
        },
        "id": "nuKfVpZDQVts",
        "outputId": "1c70ef5e-6c2a-4045-8cb3-d29af610635d"
      },
      "outputs": [
        {
          "output_type": "stream",
          "name": "stdout",
          "text": [
            "14-06-1995 - Wed - 10:37:50\n"
          ]
        }
      ],
      "source": [
        "dob_time = datetime(1995, 6, 14, 10, 37, 50, 0)\n",
        "print(dob_time.strftime(\"%d-%m-%Y - %a - %I:%M:%S\"))"
      ]
    },
    {
      "cell_type": "markdown",
      "metadata": {
        "id": "RDW68bDpQVtt"
      },
      "source": [
        "### Question 9:\n",
        "\n",
        "Write a Python program to print yesterdays' date.\n",
        "\n",
        "#### Expected Output:\n",
        "\n",
        "Yesterday :  2020-10-16"
      ]
    },
    {
      "cell_type": "code",
      "execution_count": 38,
      "metadata": {
        "colab": {
          "base_uri": "https://localhost:8080/"
        },
        "id": "Rb6QB-NgQVtt",
        "outputId": "6626bfc7-fb16-4d22-e97b-def6ad11255e"
      },
      "outputs": [
        {
          "output_type": "stream",
          "name": "stdout",
          "text": [
            "Yesterday: 2025-08-23\n"
          ]
        }
      ],
      "source": [
        "dateD = (datetime.now()-timedelta(days=1)).date()\n",
        "print(f\"Yesterday: {dateD}\")"
      ]
    },
    {
      "cell_type": "markdown",
      "metadata": {
        "id": "gw8ObH_9QVtt"
      },
      "source": [
        "### Question 10:\n",
        "\n",
        "Write a Python program to print the next 5 days from the date given below.\n",
        "\n",
        "given_date = datetime(2020, 10, 17)\n",
        "\n",
        "#### Expected Output:\n",
        "\n",
        "2020-10-18 00:00:00\n",
        "<br>2020-10-19 00:00:00\n",
        "<br>2020-10-20 00:00:00\n",
        "<br>2020-10-21 00:00:00\n",
        "<br>2020-10-22 00:00:00"
      ]
    },
    {
      "cell_type": "code",
      "execution_count": 41,
      "metadata": {
        "colab": {
          "base_uri": "https://localhost:8080/"
        },
        "id": "cA7ebuutQVtt",
        "outputId": "fcf120b2-d0f0-4b09-9aa2-fd81ad684fd8"
      },
      "outputs": [
        {
          "output_type": "stream",
          "name": "stdout",
          "text": [
            "2020-10-18 00:00:00\n",
            "2020-10-19 00:00:00\n",
            "2020-10-20 00:00:00\n",
            "2020-10-21 00:00:00\n",
            "2020-10-22 00:00:00\n"
          ]
        }
      ],
      "source": [
        "given_date = datetime(2020, 10, 17)\n",
        "for i in range(1,6):\n",
        "  d = timedelta(days=1)\n",
        "  given_date = given_date+d\n",
        "  print(given_date)"
      ]
    }
  ],
  "metadata": {
    "kernelspec": {
      "display_name": "Python 3",
      "language": "python",
      "name": "python3"
    },
    "language_info": {
      "codemirror_mode": {
        "name": "ipython",
        "version": 3
      },
      "file_extension": ".py",
      "mimetype": "text/x-python",
      "name": "python",
      "nbconvert_exporter": "python",
      "pygments_lexer": "ipython3",
      "version": "3.8.3"
    },
    "colab": {
      "provenance": []
    }
  },
  "nbformat": 4,
  "nbformat_minor": 0
}