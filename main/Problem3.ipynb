{
  "cells": [
    {
      "cell_type": "markdown",
      "metadata": {
        "id": "L8_LZRzO3SGY"
      },
      "source": [
        "# Practice Exercise - 03"
      ]
    },
    {
      "cell_type": "markdown",
      "metadata": {
        "id": "Paw9Hy--3SGZ"
      },
      "source": [
        "### Question 1:\n",
        "\n",
        "Convert the string given below into a list by taking each word separated by a comma as an element.\n",
        "\n",
        "languages = \"Java, Python, C++, Scala, C\"\n",
        "\n",
        "#### Expected Output:\n",
        "\n",
        "['Java', ' Python', ' C++', ' Scala', ' C']"
      ]
    },
    {
      "cell_type": "code",
      "execution_count": 12,
      "metadata": {
        "colab": {
          "base_uri": "https://localhost:8080/"
        },
        "id": "Emh8H_7l3SGa",
        "outputId": "3aed290f-bb9c-4032-b331-2c2ea218c7af"
      },
      "outputs": [
        {
          "output_type": "stream",
          "name": "stdout",
          "text": [
            "['Java,', 'Python,', 'C++,', 'Scala,', 'C']\n"
          ]
        }
      ],
      "source": [
        "languages = \"Java, Python, C++, Scala, C\"\n",
        "myList = list(languages.split())\n",
        "print(myList)"
      ]
    },
    {
      "cell_type": "markdown",
      "metadata": {
        "id": "-tFIb0Xd3SGa"
      },
      "source": [
        "### Question 2:\n",
        "\n",
        "We have a list of numbers given below. Add the element '10' at the 3rd position of the list and finally print the list.\n",
        "\n",
        "num_list = [5, 6, 8, 7, 9]\n",
        "\n",
        "#### Expected Output:\n",
        "\n",
        "[5, 6, 8, 10, 7, 9]"
      ]
    },
    {
      "cell_type": "code",
      "execution_count": 13,
      "metadata": {
        "colab": {
          "base_uri": "https://localhost:8080/"
        },
        "id": "-0wfxxl43SGa",
        "outputId": "8f661294-9e54-44e5-f4bf-f08ec456621b"
      },
      "outputs": [
        {
          "output_type": "stream",
          "name": "stdout",
          "text": [
            "[5, 6, 8, 10, 7, 9]\n"
          ]
        }
      ],
      "source": [
        "num_list = [5, 6, 8, 7, 9]\n",
        "num_list.insert(3,10)\n",
        "print(num_list)"
      ]
    },
    {
      "cell_type": "markdown",
      "metadata": {
        "id": "gwjJDkKV3SGa"
      },
      "source": [
        "### Question 3:\n",
        "\n",
        "Print all the multiples of 3 between 5 and 25.\n",
        "\n",
        "#### Expected Output:\n",
        "\n",
        "6\n",
        "<br>9\n",
        "<br>12\n",
        "<br>15\n",
        "<br>18\n",
        "<br>21\n",
        "<br>24"
      ]
    },
    {
      "cell_type": "code",
      "execution_count": 14,
      "metadata": {
        "colab": {
          "base_uri": "https://localhost:8080/"
        },
        "id": "di5mJrb03SGa",
        "outputId": "7128ccdb-d48f-49bc-e4bd-3a8b2e556bcf"
      },
      "outputs": [
        {
          "output_type": "stream",
          "name": "stdout",
          "text": [
            "6\n",
            "9\n",
            "12\n",
            "15\n",
            "18\n",
            "21\n",
            "24\n"
          ]
        }
      ],
      "source": [
        "for i in range (6,25,3):\n",
        "  print(i)"
      ]
    },
    {
      "cell_type": "markdown",
      "metadata": {
        "id": "uNj-CKjO3SGa"
      },
      "source": [
        "### Question 4:\n",
        "\n",
        "We have a list of numbers given below. Print the square of these numbers into another list using list comprehension.\n",
        "\n",
        "num = [2, 4, 6, 8]\n",
        "\n",
        "#### Expected Output:\n",
        "\n",
        "[4, 16, 36, 64]"
      ]
    },
    {
      "cell_type": "code",
      "execution_count": 18,
      "metadata": {
        "colab": {
          "base_uri": "https://localhost:8080/"
        },
        "id": "cGG_iNCT3SGa",
        "outputId": "763a093f-cbbc-44b6-a114-d6a922667300"
      },
      "outputs": [
        {
          "output_type": "stream",
          "name": "stdout",
          "text": [
            "[4, 16, 36, 64]\n",
            "Using comprehension: [4, 16, 36, 64]\n"
          ]
        }
      ],
      "source": [
        "num = [2, 4, 6, 8]\n",
        "nums = list()\n",
        "for i in num :\n",
        "  nums.append(i**2)\n",
        "print(nums)\n",
        "num2 = [i**2 for i in num]\n",
        "print(f\"Using comprehension: {num2}\")"
      ]
    },
    {
      "cell_type": "markdown",
      "metadata": {
        "id": "IdvQeXe93SGa"
      },
      "source": [
        "### Question 5:\n",
        "\n",
        "Print the first 10 natural numbers.\n",
        "\n",
        "#### Expected Output:\n",
        "\n",
        "1\n",
        "<br>2\n",
        "<br>3\n",
        "<br>4\n",
        "<br>5\n",
        "<br>6\n",
        "<br>7\n",
        "<br>8\n",
        "<br>9\n",
        "<br>10"
      ]
    },
    {
      "cell_type": "code",
      "execution_count": 3,
      "metadata": {
        "colab": {
          "base_uri": "https://localhost:8080/"
        },
        "id": "xQDIG0pz3SGb",
        "outputId": "56f66532-cb76-42a6-9d83-05bf477b9f3b"
      },
      "outputs": [
        {
          "output_type": "stream",
          "name": "stdout",
          "text": [
            "1\n",
            "2\n",
            "3\n",
            "4\n",
            "5\n",
            "6\n",
            "7\n",
            "8\n",
            "9\n",
            "10\n"
          ]
        }
      ],
      "source": [
        "for i in range(1,11):\n",
        "  print(i)"
      ]
    },
    {
      "cell_type": "markdown",
      "metadata": {
        "id": "226cerF73SGb"
      },
      "source": [
        "### Question 6:\n",
        "\n",
        "We have a tuple of numbers given below. Remove the largest number from the tuple and print it in sorted order.\n",
        "\n",
        "num_tuple = (5, 8, 13, 2, 17, 1)\n",
        "\n",
        "#### Expected Output:\n",
        "\n",
        "[1, 2, 5, 8, 13]"
      ]
    },
    {
      "cell_type": "code",
      "execution_count": 5,
      "metadata": {
        "colab": {
          "base_uri": "https://localhost:8080/"
        },
        "id": "rkUqbL_g3SGb",
        "outputId": "9e2f2836-a85b-4482-c457-dbdd8e2558f0"
      },
      "outputs": [
        {
          "output_type": "stream",
          "name": "stdout",
          "text": [
            "[1, 2, 5, 8, 13]\n"
          ]
        }
      ],
      "source": [
        "num_tuple = (5,8,13,2,17,1)\n",
        "list1 = list(num_tuple)\n",
        "list1.sort()\n",
        "list1.remove(17)\n",
        "print(list1)"
      ]
    },
    {
      "cell_type": "markdown",
      "metadata": {
        "id": "U5mflMe33SGb"
      },
      "source": [
        "### Question 7:\n",
        "\n",
        "Convert the list given below into a string using a comma as a separator argument.\n",
        "\n",
        "myList = ['Lenovo', ' Dell', ' Acer', ' Asus', ' HP']\n",
        "\n",
        "#### Expected Output:\n",
        "\n",
        "'Lenovo, Dell, Acer, Asus, HP'"
      ]
    },
    {
      "cell_type": "code",
      "execution_count": 10,
      "metadata": {
        "colab": {
          "base_uri": "https://localhost:8080/"
        },
        "id": "FqeYYjml3SGb",
        "outputId": "3fad2e79-95bc-4ad3-f424-1ddcead3d582"
      },
      "outputs": [
        {
          "output_type": "stream",
          "name": "stdout",
          "text": [
            "Lenovo, Dell, Acer, HP\n"
          ]
        }
      ],
      "source": [
        "myList = ['Lenovo','Dell','Acer','HP']\n",
        "result = \", \".join(item.strip() for item in myList)\n",
        "print(result)"
      ]
    },
    {
      "cell_type": "markdown",
      "metadata": {
        "id": "GVjKEiRm3SGb"
      },
      "source": [
        "### Question 8:\n",
        "\n",
        "Print all the even numbers between -10 and 0.\n",
        "\n",
        "#### Expected Output:\n",
        "\n",
        "-10\n",
        "<br>-8\n",
        "<br>-6\n",
        "<br>-4\n",
        "<br>-2"
      ]
    },
    {
      "cell_type": "code",
      "execution_count": 11,
      "metadata": {
        "colab": {
          "base_uri": "https://localhost:8080/"
        },
        "id": "vk0SOkwS3SGb",
        "outputId": "b7f9b5a3-4261-4c05-8d48-1ea046deb636"
      },
      "outputs": [
        {
          "output_type": "stream",
          "name": "stdout",
          "text": [
            "-10\n",
            "-8\n",
            "-6\n",
            "-4\n",
            "-2\n"
          ]
        }
      ],
      "source": [
        "for i in range(-10,0,2):\n",
        "  print(i)"
      ]
    },
    {
      "cell_type": "markdown",
      "metadata": {
        "id": "gPYANTU33SGb"
      },
      "source": [
        "### Question 9:\n",
        "\n",
        "Reverse the integer given below.\n",
        "\n",
        "n = 5623\n",
        "\n",
        "#### Expected Output:\n",
        "\n",
        "3265"
      ]
    },
    {
      "cell_type": "code",
      "execution_count": 17,
      "metadata": {
        "colab": {
          "base_uri": "https://localhost:8080/"
        },
        "id": "Y5e9vc_v3SGb",
        "outputId": "6a7800a0-4af2-487d-cac3-6fb8810fb50a"
      },
      "outputs": [
        {
          "output_type": "stream",
          "name": "stdout",
          "text": [
            "3265\n"
          ]
        }
      ],
      "source": [
        "n = 5623\n",
        "myStr = (str(n))[-1:-5:-1]\n",
        "print(myStr)"
      ]
    },
    {
      "cell_type": "markdown",
      "metadata": {
        "id": "ZVq0RDJT3SGb"
      },
      "source": [
        "### Question 10:\n",
        "\n",
        "We have a list of numbers given below. Print the number, square of the number, and the cube of the number, all in a single list.\n",
        "\n",
        "num = [2, 4, 6, 8]\n",
        "\n",
        "#### Expected Output:\n",
        "\n",
        "[(2, 4, 8), (4, 16, 64), (6, 36, 216), (8, 64, 512)]"
      ]
    },
    {
      "cell_type": "code",
      "execution_count": 18,
      "metadata": {
        "colab": {
          "base_uri": "https://localhost:8080/"
        },
        "id": "HxEWNO0V3SGb",
        "outputId": "4967fb5b-af5c-4883-cd91-aaf346f5334a"
      },
      "outputs": [
        {
          "output_type": "stream",
          "name": "stdout",
          "text": [
            "[(2, 4, 8), (4, 16, 64), (6, 36, 216), (8, 64, 512)]\n"
          ]
        }
      ],
      "source": [
        "num = [2,4,6,8]\n",
        "result = list()\n",
        "for i in num:\n",
        "     tup = (i,i**2,i**3)\n",
        "     result.append(tup)\n",
        "\n",
        "print(result)"
      ]
    }
  ],
  "metadata": {
    "kernelspec": {
      "display_name": "Python 3",
      "language": "python",
      "name": "python3"
    },
    "language_info": {
      "codemirror_mode": {
        "name": "ipython",
        "version": 3
      },
      "file_extension": ".py",
      "mimetype": "text/x-python",
      "name": "python",
      "nbconvert_exporter": "python",
      "pygments_lexer": "ipython3",
      "version": "3.8.3"
    },
    "colab": {
      "provenance": []
    }
  },
  "nbformat": 4,
  "nbformat_minor": 0
}