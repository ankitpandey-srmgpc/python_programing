{
  "cells": [
    {
      "cell_type": "markdown",
      "metadata": {
        "id": "gF2mgynQhGrm"
      },
      "source": [
        "# Practice Exercise - 02"
      ]
    },
    {
      "cell_type": "markdown",
      "metadata": {
        "id": "quK_0jM1hGrp"
      },
      "source": [
        "### Question 1:\n",
        "\n",
        "Print the item 'Orange' from the list of fruits given below.\n",
        "\n",
        "fruits = ['Apple', 'Grapes', 'Orange', 'Pineapple', 'Watermelon']\n",
        "\n",
        "#### Expected Output:\n",
        "\n",
        "Orange"
      ]
    },
    {
      "cell_type": "code",
      "execution_count": 2,
      "metadata": {
        "colab": {
          "base_uri": "https://localhost:8080/"
        },
        "id": "2zsW7sAghGrp",
        "outputId": "0e210643-c77b-442c-b907-3ea1931fc444"
      },
      "outputs": [
        {
          "output_type": "stream",
          "name": "stdout",
          "text": [
            "Orange\n",
            "Orange\n"
          ]
        }
      ],
      "source": [
        "fruits = ['Apple','Grapes','Orange','Pineapple','Watermelon']\n",
        "print(fruits[2])\n",
        "#using loops\n",
        "for x in fruits:\n",
        "  if(x == 'Orange'):\n",
        "    print(x)"
      ]
    },
    {
      "cell_type": "markdown",
      "metadata": {
        "id": "e_a-NDi1hGrq"
      },
      "source": [
        "### Question 2:\n",
        "\n",
        "We have a list of fruits and a string given below. Since the string contains fruit, add that string to the given list and print that new list.\n",
        "\n",
        "fruit_list = ['Apple', 'Grapes', 'Orange', 'Pineapple', 'Watermelon']\n",
        "<br>fruit_string = 'Mango'\n",
        "\n",
        "#### Expected Output:\n",
        "\n",
        "['Apple', 'Grapes', 'Orange', 'Pineapple', 'Watermelon', 'Mango']"
      ]
    },
    {
      "cell_type": "code",
      "execution_count": 2,
      "metadata": {
        "colab": {
          "base_uri": "https://localhost:8080/"
        },
        "id": "yTtqtz2khGrr",
        "outputId": "a8a4bf24-2687-4a2c-d552-18ee0a7280d7"
      },
      "outputs": [
        {
          "output_type": "stream",
          "name": "stdout",
          "text": [
            "['Apple', 'Grapes', 'Orange', 'Pineapple', 'Watermelon', 'Mango']\n"
          ]
        }
      ],
      "source": [
        "fruit_list = ['Apple', 'Grapes', 'Orange', 'Pineapple', 'Watermelon']\n",
        "fruit_string = 'Mango'\n",
        "fruit_list.append(fruit_string)\n",
        "print(fruit_list)"
      ]
    },
    {
      "cell_type": "markdown",
      "metadata": {
        "id": "7apwIPUYhGrr"
      },
      "source": [
        "### Question 3:\n",
        "\n",
        "There is a list given below which contains the name of cities. Repeat this list of cities three times, and print the old list and the new list.\n",
        "\n",
        "cityList = ['London', 'New York', 'Delhi']\n",
        "\n",
        "#### Expected Output:\n",
        "\n",
        "Old City List: ['London', 'New York', 'Delhi']\n",
        "<br>New City List: ['London', 'New York', 'Delhi', 'London', 'New York', 'Delhi', 'London', 'New York', 'Delhi']"
      ]
    },
    {
      "cell_type": "code",
      "execution_count": 3,
      "metadata": {
        "colab": {
          "base_uri": "https://localhost:8080/"
        },
        "id": "-sEZqXbdhGrs",
        "outputId": "7fdbc4bc-f49e-4f15-db57-7ffcccf882c2"
      },
      "outputs": [
        {
          "output_type": "stream",
          "name": "stdout",
          "text": [
            "Old City List: ['London', 'New York', 'Delhi']\n",
            "New City List: ['London', 'New York', 'Delhi', 'London', 'New York', 'Delhi', 'London', 'New York', 'Delhi']\n"
          ]
        }
      ],
      "source": [
        "cityList = ['London','New York','Delhi']\n",
        "print(f\"Old City List: {cityList}\")\n",
        "newCityList = cityList * 3\n",
        "print(f\"New City List: {newCityList}\")"
      ]
    },
    {
      "cell_type": "markdown",
      "metadata": {
        "id": "5DHPLia6hGrs"
      },
      "source": [
        "### Question 4:\n",
        "\n",
        "Check if the city 'Delhi' is present in the list of cities given below.\n",
        "\n",
        "cityList = ['London', 'New York', 'Delhi', 'Mumbai', 'Paris']\n",
        "\n",
        "#### Expected Output:\n",
        "\n",
        "True"
      ]
    },
    {
      "cell_type": "code",
      "execution_count": 7,
      "metadata": {
        "colab": {
          "base_uri": "https://localhost:8080/"
        },
        "id": "ks0rwfBchGrs",
        "outputId": "ca87024e-0e96-46fc-e3b9-bfda49635558"
      },
      "outputs": [
        {
          "output_type": "stream",
          "name": "stdout",
          "text": [
            "True\n",
            "True\n"
          ]
        }
      ],
      "source": [
        "cityList = ['London','New York','Delhi','Mumbai','Paris']\n",
        "#using iteration\n",
        "for x in range(0,len(cityList)):\n",
        "  if(cityList[x] == 'Delhi'):\n",
        "    print(True)\n",
        "print('Delhi' in cityList)"
      ]
    },
    {
      "cell_type": "markdown",
      "metadata": {
        "id": "Jk2smFLOhGrt"
      },
      "source": [
        "### Question 5:\n",
        "\n",
        "Reverse the string given below.\n",
        "\n",
        "name = 'Learning Journal'\n",
        "\n",
        "#### Expected Output:\n",
        "\n",
        "'lanruoJ gninraeL'"
      ]
    },
    {
      "cell_type": "code",
      "execution_count": 12,
      "metadata": {
        "colab": {
          "base_uri": "https://localhost:8080/"
        },
        "id": "eBW8nD-qhGru",
        "outputId": "41319233-68e5-43bb-901f-e273a3c5310b"
      },
      "outputs": [
        {
          "output_type": "stream",
          "name": "stdout",
          "text": [
            "lanruoJ gninraeL\n",
            "-16\n"
          ]
        }
      ],
      "source": [
        "name = 'Learning Journal'\n",
        "\n",
        "print(name[-1:-17:-1])\n",
        "print(-1*len(name))"
      ]
    },
    {
      "cell_type": "markdown",
      "metadata": {
        "id": "dYiBvzw7hGru"
      },
      "source": [
        "### Question 6:\n",
        "\n",
        "There is a string object given below. Print the word 'sunny' from string 'msg.'\n",
        "\n",
        "msg = 'A bright sunny day'\n",
        "\n",
        "#### Expected Solution:\n",
        "\n",
        "'sunny'"
      ]
    },
    {
      "cell_type": "code",
      "execution_count": 16,
      "metadata": {
        "colab": {
          "base_uri": "https://localhost:8080/"
        },
        "id": "t-HOCc8bhGru",
        "outputId": "6f66cdb2-83ab-4be6-a331-2c1bd246c6e2"
      },
      "outputs": [
        {
          "output_type": "stream",
          "name": "stdout",
          "text": [
            "sunny \n",
            "sunny\n"
          ]
        }
      ],
      "source": [
        "msg = 'A bright sunny day'\n",
        "print(msg[9:15])\n",
        "name = msg.split()\n",
        "print(name[2])"
      ]
    },
    {
      "cell_type": "markdown",
      "metadata": {
        "id": "Kou-WAs_hGru"
      },
      "source": [
        "### Question 7:\n",
        "\n",
        "Check if the cities 'New York' and 'Delhi' are present in the list of cities given below.\n",
        "\n",
        "cityList = ['London', 'New York', 'Delhi', 'Mumbai', 'Paris']\n",
        "\n",
        "#### Expected Output:\n",
        "\n",
        "True\n",
        "<br>True"
      ]
    },
    {
      "cell_type": "code",
      "execution_count": 17,
      "metadata": {
        "colab": {
          "base_uri": "https://localhost:8080/"
        },
        "id": "GZmn7F8JhGru",
        "outputId": "5e87a45d-24bc-4b91-8526-cc0cf0e90933"
      },
      "outputs": [
        {
          "output_type": "stream",
          "name": "stdout",
          "text": [
            "True\n",
            "True\n"
          ]
        }
      ],
      "source": [
        "cityList = ['London','New York','Delhi','Mumbai','Paris']\n",
        "for x in range(0,len(cityList)):\n",
        "  if(cityList[x] == 'New York' or cityList[x] == 'Delhi'):\n",
        "    print(True)"
      ]
    },
    {
      "cell_type": "markdown",
      "metadata": {
        "id": "r3jIRRDLhGru"
      },
      "source": [
        "### Question 8:\n",
        "\n",
        "Using the slicing operation, remove the whitespaces between the letters and print the string once again.\n",
        "\n",
        "name = 'P y t h o n'\n",
        "\n",
        "#### Expected Output:\n",
        "\n",
        "'Python'"
      ]
    },
    {
      "cell_type": "code",
      "execution_count": 26,
      "metadata": {
        "colab": {
          "base_uri": "https://localhost:8080/"
        },
        "id": "1PU4ETHZhGrv",
        "outputId": "5e952408-1e43-4644-f6aa-4b944711638a"
      },
      "outputs": [
        {
          "output_type": "stream",
          "name": "stdout",
          "text": [
            "Python\n"
          ]
        }
      ],
      "source": [
        "name = 'P y t h o n'\n",
        "print(name.replace(' ',''))\n"
      ]
    },
    {
      "cell_type": "markdown",
      "metadata": {
        "id": "__hbjew4hGrv"
      },
      "source": [
        "### Question 9:\n",
        "\n",
        "Print the index of the letter 'h' from the string given below.\n",
        "\n",
        "name = 'Python'\n",
        "\n",
        "#### Expected Output:\n",
        "\n",
        "3"
      ]
    },
    {
      "cell_type": "code",
      "execution_count": 27,
      "metadata": {
        "colab": {
          "base_uri": "https://localhost:8080/"
        },
        "id": "9ebd4Q0fhGrv",
        "outputId": "ae04b0a6-e0f4-45da-d0d9-3a7c1b5f5cfe"
      },
      "outputs": [
        {
          "output_type": "stream",
          "name": "stdout",
          "text": [
            "3\n"
          ]
        }
      ],
      "source": [
        "name = 'Python'\n",
        "for i in range(0,len(name)):\n",
        "  if(name[i] == 'h'):\n",
        "    print(i)"
      ]
    },
    {
      "cell_type": "markdown",
      "metadata": {
        "id": "rdK48ft6hGrv"
      },
      "source": [
        "### Question 10:\n",
        "\n",
        "Print the odd indexed elements from the list of colors given below.\n",
        "\n",
        "myList = ['Red', 'Blue', 'Orange', 'White', 'Black', 'Yellow']\n",
        "\n",
        "#### Expected Output:\n",
        "\n",
        "['Blue', 'White', 'Yellow']"
      ]
    },
    {
      "cell_type": "code",
      "execution_count": 30,
      "metadata": {
        "colab": {
          "base_uri": "https://localhost:8080/"
        },
        "id": "_LLbKCUehGrv",
        "outputId": "9e6ff8ed-3681-4f85-f48a-a8d773ba2642"
      },
      "outputs": [
        {
          "output_type": "stream",
          "name": "stdout",
          "text": [
            "['Blue', 'White', 'Yellow']\n"
          ]
        }
      ],
      "source": [
        "myList = ['Red', 'Blue', 'Orange', 'White', 'Black', 'Yellow']\n",
        "print(myList[1:len(myList):2])"
      ]
    }
  ],
  "metadata": {
    "kernelspec": {
      "display_name": "Python 3",
      "language": "python",
      "name": "python3"
    },
    "language_info": {
      "codemirror_mode": {
        "name": "ipython",
        "version": 3
      },
      "file_extension": ".py",
      "mimetype": "text/x-python",
      "name": "python",
      "nbconvert_exporter": "python",
      "pygments_lexer": "ipython3",
      "version": "3.8.3"
    },
    "colab": {
      "provenance": []
    }
  },
  "nbformat": 4,
  "nbformat_minor": 0
}