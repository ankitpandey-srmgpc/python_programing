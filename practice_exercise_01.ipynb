{
  "cells": [
    {
      "cell_type": "markdown",
      "metadata": {
        "id": "_nH_vVZmYw63"
      },
      "source": [
        "# Practice Exercise - 01"
      ]
    },
    {
      "cell_type": "markdown",
      "metadata": {
        "id": "JFFPG5C4Yw64"
      },
      "source": [
        "### Question 1:\n",
        "\n",
        "There are two numbers given below. Print the sum of these numbers if their product is greater than 100. Otherwise, print their product.\n",
        "\n",
        "a = 15\n",
        "<br>b = 12\n",
        "\n",
        "#### Expected Output:\n",
        "\n",
        "27"
      ]
    },
    {
      "cell_type": "code",
      "execution_count": null,
      "metadata": {
        "colab": {
          "base_uri": "https://localhost:8080/"
        },
        "id": "G1qLwgtRYw64",
        "outputId": "8d33c354-3840-4d00-b615-a81bd687f634"
      },
      "outputs": [
        {
          "output_type": "stream",
          "name": "stdout",
          "text": [
            "27\n"
          ]
        }
      ],
      "source": [
        "a = 15\n",
        "b = 12\n",
        "if (a*b) > 100:\n",
        "  print(a+b)\n",
        "else:\n",
        "  print(a*b)"
      ]
    },
    {
      "cell_type": "markdown",
      "metadata": {
        "id": "D-ZDTkdaYw64"
      },
      "source": [
        "### Question 2:\n",
        "\n",
        "Write a Python program to print the volume of a cone whose height and diameter are given below. (Take pi = 3.14)\n",
        "\n",
        "h = 10\n",
        "<br>d = 13\n",
        "\n",
        "#### Expected Output:\n",
        "\n",
        "442.21666666666664"
      ]
    },
    {
      "cell_type": "code",
      "execution_count": null,
      "metadata": {
        "colab": {
          "base_uri": "https://localhost:8080/"
        },
        "id": "2PHYN4EEYw64",
        "outputId": "eadeaa7e-0c42-492e-8362-623f508fdede"
      },
      "outputs": [
        {
          "output_type": "stream",
          "name": "stdout",
          "text": [
            "442.2166666666667\n"
          ]
        }
      ],
      "source": [
        "h = 10\n",
        "pi= 3.14\n",
        "d = 13\n",
        "r = d/2\n",
        "volume = (r**2)*(h/3)*pi\n",
        "print(volume)"
      ]
    },
    {
      "cell_type": "markdown",
      "metadata": {
        "id": "MKSsaHKBYw64"
      },
      "source": [
        "### Question 3:\n",
        "\n",
        "We have the name and seat numbers of a student given below as two tuples. With this given data, print the students' names and their assigned seat numbers in a single line using the appropriate data type.\n",
        "\n",
        "name = ('Shaun', 'Ron', 'Michael')\n",
        "<br>seat_numbers = (101, 102, 103)\n",
        "\n",
        "#### Expected Output:\n",
        "\n",
        "{'Shaun': 101, 'Ron': 102, 'Michael': 103}"
      ]
    },
    {
      "cell_type": "code",
      "execution_count": null,
      "metadata": {
        "colab": {
          "base_uri": "https://localhost:8080/"
        },
        "id": "0d7VTKcvYw64",
        "outputId": "94b60bc4-010d-426e-c492-39cf09d68bf2"
      },
      "outputs": [
        {
          "output_type": "stream",
          "name": "stdout",
          "text": [
            "{'Shaun': 101, 'Ron': 102, 'Michael': 103}\n"
          ]
        }
      ],
      "source": [
        "name = ('Shaun','Ron','Michael')\n",
        "seat_numbers = (101,102,103)\n",
        "seat_map = dict(zip(name,seat_numbers))\n",
        "print(seat_map)"
      ]
    },
    {
      "cell_type": "markdown",
      "metadata": {
        "id": "2QqFrSJMYw65"
      },
      "source": [
        "### Question 4:\n",
        "\n",
        "We have a number given below. If the number is greater than 0, add 1 to it. Otherwise, subtract 1 from it, and print the new number obtained.\n",
        "\n",
        "num = -6\n",
        "\n",
        "#### Expected Output:\n",
        "\n",
        "-7"
      ]
    },
    {
      "cell_type": "code",
      "execution_count": null,
      "metadata": {
        "colab": {
          "base_uri": "https://localhost:8080/"
        },
        "id": "ZSiN3jJiYw65",
        "outputId": "e208426f-48db-4957-9197-adcb8b115b8d"
      },
      "outputs": [
        {
          "output_type": "stream",
          "name": "stdout",
          "text": [
            "-7\n"
          ]
        }
      ],
      "source": [
        "num = -6\n",
        "if(num > 0):\n",
        "  num = num+1\n",
        "else:\n",
        "  num = num-1\n",
        "print(num)"
      ]
    },
    {
      "cell_type": "markdown",
      "metadata": {
        "id": "iJ0OQzJ4Yw65"
      },
      "source": [
        "### Question 5:\n",
        "\n",
        "I have four variables, each assigned with certain values given below. A massive expression line follows it. Re-write the expression which suits the desired lexical model.\n",
        "\n",
        "a = 5\n",
        "<br>b = 2\n",
        "<br>c = 8\n",
        "<br>d = 7\n",
        "\n",
        "x = (((a + b) * (a + c) * (a + d)) / ((b + a) * (b + c) * (b + d)) / ((c + a) * (c + b) * (c + d))) * (a * b * c * d)\n",
        "\n",
        "#### Expected Output:\n",
        "\n",
        "0.4977777777777778"
      ]
    },
    {
      "cell_type": "code",
      "execution_count": null,
      "metadata": {
        "colab": {
          "base_uri": "https://localhost:8080/"
        },
        "id": "ZsneLpBxYw65",
        "outputId": "89f782ac-de9f-40af-b8d9-e29fcd716c55"
      },
      "outputs": [
        {
          "output_type": "stream",
          "name": "stdout",
          "text": [
            "0.4977777777777778\n"
          ]
        }
      ],
      "source": [
        "a = 5\n",
        "b = 2\n",
        "c = 8\n",
        "d = 7\n",
        "answer = (((a + b) * (a + c) * (a + d)) / ((b + a) * (b + c) * (b + d)) / ((c + a) * (c + b) * (c + d))) * (a * b * c * d)\n",
        "print(answer)"
      ]
    },
    {
      "cell_type": "markdown",
      "metadata": {
        "id": "XSbA5L0lYw65"
      },
      "source": [
        "### Question 6:\n",
        "\n",
        "There are two numbers given below. Compare them and print the result obtained.\n",
        "\n",
        "a = 5\n",
        "<br>b = 9\n",
        "\n",
        "#### Expected Output:\n",
        "\n",
        "b is greater than a"
      ]
    },
    {
      "cell_type": "code",
      "execution_count": null,
      "metadata": {
        "colab": {
          "base_uri": "https://localhost:8080/"
        },
        "id": "DI_GV9wTYw65",
        "outputId": "5a6ebcdc-8be7-4ad5-9252-31fda4b57ce7"
      },
      "outputs": [
        {
          "output_type": "stream",
          "name": "stdout",
          "text": [
            "b is greater than a\n"
          ]
        }
      ],
      "source": [
        "a = 5\n",
        "b = 9\n",
        "if(a > b):\n",
        "  print(\"a is greater than b\")\n",
        "else:\n",
        "  print(\"b is greater than a\")"
      ]
    },
    {
      "cell_type": "markdown",
      "metadata": {
        "id": "VPVpiWDTYw65"
      },
      "source": [
        "### Question 7:\n",
        "\n",
        "We have a set given below. Find out whether 10 and 7 are present in the given set or not.\n",
        "\n",
        "mySet = {5, 7, 2, 6, 3}\n",
        "\n",
        "#### Expected Output:\n",
        "\n",
        "False\n",
        "<br>True"
      ]
    },
    {
      "cell_type": "code",
      "execution_count": null,
      "metadata": {
        "colab": {
          "base_uri": "https://localhost:8080/"
        },
        "id": "rU4IYtsFYw65",
        "outputId": "6dc2ef80-fdb0-4ed6-b2eb-4ed3fa1032a9"
      },
      "outputs": [
        {
          "output_type": "stream",
          "name": "stdout",
          "text": [
            "False\n",
            "True\n"
          ]
        }
      ],
      "source": [
        "mySet = {5,7,2,6,3}\n",
        "print(10 in mySet)\n",
        "print(7 in mySet)\n"
      ]
    },
    {
      "cell_type": "markdown",
      "metadata": {
        "id": "uETdntJJYw65"
      },
      "source": [
        "### Question 8:\n",
        "\n",
        "We have a number given below. Write a program to check for the divisibility of this number by 3 and 5, and print the result obtained.\n",
        "\n",
        "a = 12\n",
        "\n",
        "#### Expected Output:\n",
        "\n",
        "a is divisible by either 3 or 5, but not both"
      ]
    },
    {
      "cell_type": "code",
      "execution_count": null,
      "metadata": {
        "colab": {
          "base_uri": "https://localhost:8080/"
        },
        "id": "pfPbX9evYw65",
        "outputId": "8f4d4ab7-be7d-4800-c6a4-3560559b7393"
      },
      "outputs": [
        {
          "output_type": "stream",
          "name": "stdout",
          "text": [
            "a is divisible by either 3 or 5\n"
          ]
        }
      ],
      "source": [
        "a = 12\n",
        "if ( a%3 == 0 or a%5== 0):\n",
        "  print(\"a is divisible by either 3 or 5\")"
      ]
    },
    {
      "cell_type": "markdown",
      "metadata": {
        "id": "CTCyF1TnYw65"
      },
      "source": [
        "### Question 9:\n",
        "\n",
        "Write a Python program to check if the given year is a leap year.\n",
        "\n",
        "year = 1996\n",
        "\n",
        "#### Expected Output:\n",
        "\n",
        "Leap Year"
      ]
    },
    {
      "cell_type": "code",
      "execution_count": null,
      "metadata": {
        "colab": {
          "base_uri": "https://localhost:8080/"
        },
        "id": "aVqs6ErJYw65",
        "outputId": "d77984b4-1097-428c-a02a-bcf630397e22"
      },
      "outputs": [
        {
          "output_type": "stream",
          "name": "stdout",
          "text": [
            "Leap Year\n"
          ]
        }
      ],
      "source": [
        "year = 1996\n",
        "if(year%4 == 0):\n",
        "  print(\"Leap Year\");"
      ]
    },
    {
      "cell_type": "markdown",
      "metadata": {
        "id": "naUDtU8EYw66"
      },
      "source": [
        "### Question 10:\n",
        "\n",
        "I have an examination form that requires the following information.\n",
        "\n",
        "Name, Age, Roll Number, and Subjects.\n",
        "\n",
        "Declare the parameters mentioned above with a suitable data type, and then assign some values to it, and finally print the result.\n",
        "\n",
        "#### Expected Output:\n",
        "\n",
        "Name:  Sachin\n",
        "<br>Age:  17\n",
        "<br>Roll Number:  528841\n",
        "<br>Subjects:  ['Maths', 'Physics', 'Chemistry', 'Computer Science', 'English']"
      ]
    },
    {
      "cell_type": "code",
      "execution_count": null,
      "metadata": {
        "colab": {
          "base_uri": "https://localhost:8080/"
        },
        "id": "lu6CtR9BYw66",
        "outputId": "13a8f64e-78f6-4b5b-e457-4e3876ef8273"
      },
      "outputs": [
        {
          "output_type": "stream",
          "name": "stdout",
          "text": [
            "Name: Sachin\n",
            "Age: 17\n",
            "Roll Numbeer: 528841\n",
            "Subjects: ['Maths', 'Physics', 'Chemistrt', 'Computeer Scince', 'English']\n"
          ]
        }
      ],
      "source": [
        "name = \"Sachin\"\n",
        "age = 17\n",
        "rollNumber = 528841\n",
        "subject = ['Maths','Physics','Chemistrt','Computeer Scince','English']\n",
        "print(f\"Name: {name}\")\n",
        "print(f\"Age: {age}\")\n",
        "print(f\"Roll Numbeer: {rollNumber}\")\n",
        "print(f\"Subjects: {subject}\")"
      ]
    },
    {
      "cell_type": "code",
      "metadata": {
        "colab": {
          "base_uri": "https://localhost:8080/"
        },
        "id": "7b640c46",
        "outputId": "cd641a60-15a4-4f26-e711-bcb7a1efdb7b"
      },
      "source": [
        "# Add all changes\n",
        "!git clone https://github.com/ankitpandey-srmgpc/python_programing.git\n"
      ],
      "execution_count": null,
      "outputs": [
        {
          "output_type": "stream",
          "name": "stdout",
          "text": [
            "Cloning into 'python_programing'...\n",
            "remote: Enumerating objects: 4, done.\u001b[K\n",
            "remote: Counting objects: 100% (4/4), done.\u001b[K\n",
            "remote: Compressing objects: 100% (4/4), done.\u001b[K\n",
            "remote: Total 4 (delta 0), reused 0 (delta 0), pack-reused 0 (from 0)\u001b[K\n",
            "Receiving objects: 100% (4/4), done.\n"
          ]
        }
      ]
    },
    {
      "cell_type": "code",
      "source": [
        "!git config --global user.email \"ankitpandey.srmgpc@gmail.com\"\n",
        "!git config --global user.name \"ankitpandey-srmgpc\""
      ],
      "metadata": {
        "id": "1T_uHsPwoqK3"
      },
      "execution_count": null,
      "outputs": []
    },
    {
      "cell_type": "code",
      "source": [
        "!git add ."
      ],
      "metadata": {
        "colab": {
          "base_uri": "https://localhost:8080/"
        },
        "id": "k4sKhKh0o1s8",
        "outputId": "caacb906-3e8f-4367-db35-4c035bef8b98"
      },
      "execution_count": null,
      "outputs": [
        {
          "output_type": "stream",
          "name": "stdout",
          "text": [
            "warning: adding embedded git repository: python_programing\n",
            "\u001b[33mhint: You've added another git repository inside your current repository.\u001b[m\n",
            "\u001b[33mhint: Clones of the outer repository will not contain the contents of\u001b[m\n",
            "\u001b[33mhint: the embedded repository and will not know how to obtain it.\u001b[m\n",
            "\u001b[33mhint: If you meant to add a submodule, use:\u001b[m\n",
            "\u001b[33mhint: \u001b[m\n",
            "\u001b[33mhint: \tgit submodule add <url> python_programing\u001b[m\n",
            "\u001b[33mhint: \u001b[m\n",
            "\u001b[33mhint: If you added this path by mistake, you can remove it from the\u001b[m\n",
            "\u001b[33mhint: index with:\u001b[m\n",
            "\u001b[33mhint: \u001b[m\n",
            "\u001b[33mhint: \tgit rm --cached python_programing\u001b[m\n",
            "\u001b[33mhint: \u001b[m\n",
            "\u001b[33mhint: See \"git help submodule\" for more information.\u001b[m\n"
          ]
        }
      ]
    },
    {
      "cell_type": "code",
      "source": [
        "!git commit -m \"Pushing the file\""
      ],
      "metadata": {
        "colab": {
          "base_uri": "https://localhost:8080/"
        },
        "id": "2juRg3Qro5wd",
        "outputId": "f4f68b75-a1ce-46be-f20d-a501a0020db9"
      },
      "execution_count": null,
      "outputs": [
        {
          "output_type": "stream",
          "name": "stdout",
          "text": [
            "[master 88fcd9f] Pushing the file\n",
            " 1 file changed, 1 insertion(+)\n",
            " create mode 160000 python_programing\n"
          ]
        }
      ]
    },
    {
      "cell_type": "code",
      "source": [
        "import os\n",
        "os.environ['GITHUB_TOKEN'] = \"\""
      ],
      "metadata": {
        "id": "nLI6nX2co_vc"
      },
      "execution_count": null,
      "outputs": []
    },
    {
      "cell_type": "code",
      "source": [
        "!git checkout -b main\n",
        "!git add .\n",
        "!git commit -m \"Initial commit\"\n"
      ],
      "metadata": {
        "colab": {
          "base_uri": "https://localhost:8080/"
        },
        "id": "OE4fQagapLmE",
        "outputId": "ee433a8e-a354-48b3-ee4a-6ca65c72af5c"
      },
      "execution_count": null,
      "outputs": [
        {
          "output_type": "stream",
          "name": "stdout",
          "text": [
            "Switched to a new branch 'main'\n",
            "On branch main\n",
            "nothing to commit, working tree clean\n"
          ]
        }
      ]
    },
    {
      "cell_type": "code",
      "source": [
        "!pwd\n",
        "!ls -la\n"
      ],
      "metadata": {
        "colab": {
          "base_uri": "https://localhost:8080/"
        },
        "id": "x61Nn_bzphWY",
        "outputId": "1d7a083a-6360-403f-8c83-5d48faca6836"
      },
      "execution_count": null,
      "outputs": [
        {
          "output_type": "stream",
          "name": "stdout",
          "text": [
            "/content\n",
            "total 24\n",
            "drwxr-xr-x 1 root root 4096 Aug 22 16:34 .\n",
            "drwxr-xr-x 1 root root 4096 Aug 22 15:26 ..\n",
            "drwxr-xr-x 4 root root 4096 Aug 20 21:31 .config\n",
            "drwxr-xr-x 8 root root 4096 Aug 22 16:38 .git\n",
            "drwxr-xr-x 3 root root 4096 Aug 22 16:34 python_programing\n",
            "drwxr-xr-x 1 root root 4096 Aug 20 21:31 sample_data\n"
          ]
        }
      ]
    },
    {
      "cell_type": "code",
      "source": [
        "%cd /content/python_programing\n",
        "!ls -la\n"
      ],
      "metadata": {
        "colab": {
          "base_uri": "https://localhost:8080/"
        },
        "id": "U-w3NiOoppjZ",
        "outputId": "158bb75c-d5c7-4eb7-86ee-e9b721da4c16"
      },
      "execution_count": null,
      "outputs": [
        {
          "output_type": "stream",
          "name": "stdout",
          "text": [
            "/content/python_programing\n",
            "total 24\n",
            "drwxr-xr-x 3 root root 4096 Aug 22 16:34 .\n",
            "drwxr-xr-x 1 root root 4096 Aug 22 16:34 ..\n",
            "drwxr-xr-x 8 root root 4096 Aug 22 16:38 .git\n",
            "-rw-r--r-- 1 root root 4688 Aug 22 16:34 .gitignore\n",
            "-rw-r--r-- 1 root root   55 Aug 22 16:34 README.md\n"
          ]
        }
      ]
    },
    {
      "cell_type": "code",
      "source": [
        "!git checkout -b main\n",
        "!git add .\n",
        "!git commit -m \"Initial commit\"\n",
        "!git push https://{os.environ['GITHUB_TOKEN']}@github.com/ankitpandey-srmgpc/python_programing.git main\n",
        "!git add practice-exercise-01.ipynb"
      ],
      "metadata": {
        "colab": {
          "base_uri": "https://localhost:8080/"
        },
        "id": "8bnNZn_9ptZ6",
        "outputId": "2a926a8d-dd0f-4ac6-da7f-68723a69148f"
      },
      "execution_count": null,
      "outputs": [
        {
          "output_type": "stream",
          "name": "stdout",
          "text": [
            "fatal: A branch named 'main' already exists.\n",
            "On branch main\n",
            "Your branch is up to date with 'origin/main'.\n",
            "\n",
            "nothing to commit, working tree clean\n",
            "Everything up-to-date\n",
            "fatal: pathspec 'practice-exercise-01.ipynb' did not match any files\n"
          ]
        }
      ]
    },
    {
      "cell_type": "code",
      "source": [
        "!mv /content/practice-exercise-01.ipynb /content/python_programing/\n",
        "\n"
      ],
      "metadata": {
        "id": "lrsxP5MRp_ne",
        "outputId": "04544da9-2c03-4fe4-faa5-d13447271345",
        "colab": {
          "base_uri": "https://localhost:8080/"
        }
      },
      "execution_count": null,
      "outputs": [
        {
          "output_type": "stream",
          "name": "stdout",
          "text": [
            "mv: cannot stat '/content/practice-exercise-01.ipynb': No such file or directory\n"
          ]
        }
      ]
    }
  ],
  "metadata": {
    "kernelspec": {
      "display_name": "Python 3",
      "language": "python",
      "name": "python3"
    },
    "language_info": {
      "codemirror_mode": {
        "name": "ipython",
        "version": 3
      },
      "file_extension": ".py",
      "mimetype": "text/x-python",
      "name": "python",
      "nbconvert_exporter": "python",
      "pygments_lexer": "ipython3",
      "version": "3.8.3"
    },
    "colab": {
      "provenance": []
    }
  },
  "nbformat": 4,
  "nbformat_minor": 0
}